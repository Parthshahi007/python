{
 "cells": [
  {
   "cell_type": "code",
   "execution_count": null,
   "metadata": {},
   "outputs": [
    {
     "name": "stdout",
     "output_type": "stream",
     "text": [
      "Average weekly sales: 104.29 units\n",
      "\n",
      "Weekly Sales Comparison:\n",
      "Week 1: 120 units - Above average\n",
      "Week 2: 85 units - Below average\n",
      "Week 3: 100 units - Below average\n",
      "Week 4: 90 units - Below average\n",
      "Week 5: 110 units - Above average\n",
      "Week 6: 95 units - Below average\n",
      "Week 7: 130 units - Above average\n"
     ]
    }
   ],
   "source": [
    "# Question 1 - Loops and Lists\n",
    "# You are given a list of numbers representing weekly sales in units:\n",
    "weekly_sales = [120, 85, 100, 90, 110, 95, 130]\n",
    "\n",
    "# Write a for loop that iterates through the list and prints whether each week's sales were above or below the average sales for the period.\n",
    "# Calculate and print the average sales.\n",
    "# List of weekly sales in units\n",
    "weekly_sales = [120, 85, 100, 90, 110, 95, 130]\n",
    "\n",
    "# Calculate the average sales\n",
    "average_sales = sum(weekly_sales) / len(weekly_sales)\n",
    "\n",
    "# Print the average sales\n",
    "print(f\"Average weekly sales: {average_sales:.2f} units\")\n",
    "\n",
    "# Iterate through the weekly sales and compare to average\n",
    "print(\"\\nWeekly Sales Comparison:\")\n",
    "for week, sales in enumerate(weekly_sales, 1):\n",
    "    if sales > average_sales:\n",
    "        print(f\"Week {week}: {sales} units - Above average\")\n",
    "    elif sales < average_sales:\n",
    "        print(f\"Week {week}: {sales} units - Below average\")\n",
    "    else:\n",
    "        print(f\"Week {week}: {sales} units - Exactly average\")\n",
    "        print(\"sexy\")\n",
    "        "
   ]
  },
  {
   "cell_type": "code",
   "execution_count": null,
   "metadata": {},
   "outputs": [],
   "source": []
  }
 ],
 "metadata": {
  "kernelspec": {
   "display_name": "Python 3",
   "language": "python",
   "name": "python3"
  },
  "language_info": {
   "codemirror_mode": {
    "name": "ipython",
    "version": 3
   },
   "file_extension": ".py",
   "mimetype": "text/x-python",
   "name": "python",
   "nbconvert_exporter": "python",
   "pygments_lexer": "ipython3",
   "version": "3.9.6"
  }
 },
 "nbformat": 4,
 "nbformat_minor": 2
}
